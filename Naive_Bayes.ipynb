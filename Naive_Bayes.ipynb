{
  "nbformat": 4,
  "nbformat_minor": 0,
  "metadata": {
    "colab": {
      "name": "Naive Bayes.ipynb",
      "provenance": [],
      "collapsed_sections": [],
      "mount_file_id": "1Pk7KHJhJHGHlZ1sssV9n-vK-xi4s92HK",
      "authorship_tag": "ABX9TyNG1O4mzBFsFMu0FuxZgfd8",
      "include_colab_link": true
    },
    "kernelspec": {
      "name": "python3",
      "display_name": "Python 3"
    }
  },
  "cells": [
    {
      "cell_type": "markdown",
      "metadata": {
        "id": "view-in-github",
        "colab_type": "text"
      },
      "source": [
        "<a href=\"https://colab.research.google.com/github/Tavo826/Aprende-ML-Book-/blob/main/Naive_Bayes.ipynb\" target=\"_parent\"><img src=\"https://colab.research.google.com/assets/colab-badge.svg\" alt=\"Open In Colab\"/></a>"
      ]
    },
    {
      "cell_type": "markdown",
      "metadata": {
        "id": "CVpvUMG6ad9D"
      },
      "source": [
        "# Alquilar o comprar casa\n",
        "\n",
        "* **estado civil:**\n",
        "  - 0-soltero\n",
        "  - 1-casado\n",
        "  - 2-divorciado\n",
        "\n",
        "* **trabajo:**\n",
        " - 0-sin empleo\n",
        " - 1-freelance \n",
        " - 2-empleado\n",
        " - 3-empresario\n",
        " - 4-pareja: autónomos\n",
        " - 5-pareja: empleados\n",
        " - 6-pareja: autónomo y asalariado\n",
        " - 7-pareja: empresario y autónomo\n",
        " - 8-pareja: empresarios o empresario y empleado\n",
        "\n",
        "* **comprar**\n",
        "  - 0-No comprar\n",
        "  - 1-Comprar\n",
        "\n",
        "Suposiciones:\n",
        "  - Planteado en euros\n",
        "  - No se tiene en cuenta ubicación geográfica\n",
        "  - Hipoteca fija a 30 años con interés de mercado \"bajo\""
      ]
    },
    {
      "cell_type": "code",
      "metadata": {
        "id": "FJQkV8O8ZvPa",
        "colab": {
          "base_uri": "https://localhost:8080/",
          "height": 71
        },
        "outputId": "d3ca4ef7-b7ca-43e1-8b36-6283028102c3"
      },
      "source": [
        "import pandas as pd\n",
        "import numpy as np\n",
        "import matplotlib.pyplot as plt\n",
        "from matplotlib import colors\n",
        "import seaborn as sb\n",
        "\n",
        "%matplotlib inline\n",
        "plt.rcParams['figure.figsize'] = (16,9)\n",
        "plt.style.use('ggplot')\n",
        "\n",
        "from sklearn.model_selection import train_test_split\n",
        "from sklearn.metrics import classification_report, confusion_matrix\n",
        "from sklearn.naive_bayes import GaussianNB\n",
        "from sklearn.feature_selection import SelectKBest"
      ],
      "execution_count": null,
      "outputs": [
        {
          "output_type": "stream",
          "text": [
            "/usr/local/lib/python3.6/dist-packages/statsmodels/tools/_testing.py:19: FutureWarning: pandas.util.testing is deprecated. Use the functions in the public API at pandas.testing instead.\n",
            "  import pandas.util.testing as tm\n"
          ],
          "name": "stderr"
        }
      ]
    },
    {
      "cell_type": "code",
      "metadata": {
        "id": "MwzoHyuChCFv",
        "colab": {
          "base_uri": "https://localhost:8080/",
          "height": 224
        },
        "outputId": "eabfeb4d-677e-45d8-c4e1-2a4a3c25592b"
      },
      "source": [
        "dataframe = pd.read_csv('/content/drive/My Drive/Colab Notebooks/Libro_AprendeML/comprar_alquilar.csv')\n",
        "dataframe.head()"
      ],
      "execution_count": null,
      "outputs": [
        {
          "output_type": "execute_result",
          "data": {
            "text/html": [
              "<div>\n",
              "<style scoped>\n",
              "    .dataframe tbody tr th:only-of-type {\n",
              "        vertical-align: middle;\n",
              "    }\n",
              "\n",
              "    .dataframe tbody tr th {\n",
              "        vertical-align: top;\n",
              "    }\n",
              "\n",
              "    .dataframe thead th {\n",
              "        text-align: right;\n",
              "    }\n",
              "</style>\n",
              "<table border=\"1\" class=\"dataframe\">\n",
              "  <thead>\n",
              "    <tr style=\"text-align: right;\">\n",
              "      <th></th>\n",
              "      <th>ingresos</th>\n",
              "      <th>gastos_comunes</th>\n",
              "      <th>pago_coche</th>\n",
              "      <th>gastos_otros</th>\n",
              "      <th>ahorros</th>\n",
              "      <th>vivienda</th>\n",
              "      <th>estado_civil</th>\n",
              "      <th>hijos</th>\n",
              "      <th>trabajo</th>\n",
              "      <th>comprar</th>\n",
              "    </tr>\n",
              "  </thead>\n",
              "  <tbody>\n",
              "    <tr>\n",
              "      <th>0</th>\n",
              "      <td>6000</td>\n",
              "      <td>1000</td>\n",
              "      <td>0</td>\n",
              "      <td>600</td>\n",
              "      <td>50000</td>\n",
              "      <td>400000</td>\n",
              "      <td>0</td>\n",
              "      <td>2</td>\n",
              "      <td>2</td>\n",
              "      <td>1</td>\n",
              "    </tr>\n",
              "    <tr>\n",
              "      <th>1</th>\n",
              "      <td>6745</td>\n",
              "      <td>944</td>\n",
              "      <td>123</td>\n",
              "      <td>429</td>\n",
              "      <td>43240</td>\n",
              "      <td>636897</td>\n",
              "      <td>1</td>\n",
              "      <td>3</td>\n",
              "      <td>6</td>\n",
              "      <td>0</td>\n",
              "    </tr>\n",
              "    <tr>\n",
              "      <th>2</th>\n",
              "      <td>6455</td>\n",
              "      <td>1033</td>\n",
              "      <td>98</td>\n",
              "      <td>795</td>\n",
              "      <td>57463</td>\n",
              "      <td>321779</td>\n",
              "      <td>2</td>\n",
              "      <td>1</td>\n",
              "      <td>8</td>\n",
              "      <td>1</td>\n",
              "    </tr>\n",
              "    <tr>\n",
              "      <th>3</th>\n",
              "      <td>7098</td>\n",
              "      <td>1278</td>\n",
              "      <td>15</td>\n",
              "      <td>254</td>\n",
              "      <td>54506</td>\n",
              "      <td>660933</td>\n",
              "      <td>0</td>\n",
              "      <td>0</td>\n",
              "      <td>3</td>\n",
              "      <td>0</td>\n",
              "    </tr>\n",
              "    <tr>\n",
              "      <th>4</th>\n",
              "      <td>6167</td>\n",
              "      <td>863</td>\n",
              "      <td>223</td>\n",
              "      <td>520</td>\n",
              "      <td>41512</td>\n",
              "      <td>348932</td>\n",
              "      <td>0</td>\n",
              "      <td>0</td>\n",
              "      <td>3</td>\n",
              "      <td>1</td>\n",
              "    </tr>\n",
              "  </tbody>\n",
              "</table>\n",
              "</div>"
            ],
            "text/plain": [
              "   ingresos  gastos_comunes  pago_coche  ...  hijos  trabajo  comprar\n",
              "0      6000            1000           0  ...      2        2        1\n",
              "1      6745             944         123  ...      3        6        0\n",
              "2      6455            1033          98  ...      1        8        1\n",
              "3      7098            1278          15  ...      0        3        0\n",
              "4      6167             863         223  ...      0        3        1\n",
              "\n",
              "[5 rows x 10 columns]"
            ]
          },
          "metadata": {
            "tags": []
          },
          "execution_count": 2
        }
      ]
    },
    {
      "cell_type": "code",
      "metadata": {
        "id": "t2mBJRgNmtqZ",
        "colab": {
          "base_uri": "https://localhost:8080/",
          "height": 85
        },
        "outputId": "890650c2-baf6-4f69-bbeb-82ff1adbd2ed"
      },
      "source": [
        "print(dataframe.groupby('comprar').size())"
      ],
      "execution_count": null,
      "outputs": [
        {
          "output_type": "stream",
          "text": [
            "comprar\n",
            "0    135\n",
            "1     67\n",
            "dtype: int64\n"
          ],
          "name": "stdout"
        }
      ]
    },
    {
      "cell_type": "code",
      "metadata": {
        "id": "eBpRZqPsm5VW",
        "colab": {
          "base_uri": "https://localhost:8080/",
          "height": 282
        },
        "outputId": "8cc44664-7c89-41e6-99c8-8a23df03f25a"
      },
      "source": [
        "dataframe.drop(['comprar'], axis=1).hist()\n",
        "plt.show()"
      ],
      "execution_count": null,
      "outputs": [
        {
          "output_type": "display_data",
          "data": {
            "image/png": "[encoded data removed]",
            "text/plain": [
              "<Figure size 432x288 with 9 Axes>"
            ]
          },
          "metadata": {
            "tags": [],
            "needs_background": "light"
          }
        }
      ]
    },
    {
      "cell_type": "code",
      "metadata": {
        "id": "8tXDjWIEnX5-",
        "colab": {
          "base_uri": "https://localhost:8080/",
          "height": 224
        },
        "outputId": "570679b9-ca35-4454-bb1d-fc41d4845ff8"
      },
      "source": [
        "#Generando más columnas\n",
        "\n",
        "dataframe['gastos'] = (dataframe['gastos_comunes'] + dataframe['gastos_otros'] + dataframe['pago_coche'])\n",
        "dataframe['financiar'] = dataframe['vivienda'] - dataframe['ahorros']\n",
        "reduced = dataframe.drop(['gastos_comunes', 'gastos_otros', 'pago_coche'], axis=1)\n",
        "reduced.head()"
      ],
      "execution_count": null,
      "outputs": [
        {
          "output_type": "execute_result",
          "data": {
            "text/html": [
              "<div>\n",
              "<style scoped>\n",
              "    .dataframe tbody tr th:only-of-type {\n",
              "        vertical-align: middle;\n",
              "    }\n",
              "\n",
              "    .dataframe tbody tr th {\n",
              "        vertical-align: top;\n",
              "    }\n",
              "\n",
              "    .dataframe thead th {\n",
              "        text-align: right;\n",
              "    }\n",
              "</style>\n",
              "<table border=\"1\" class=\"dataframe\">\n",
              "  <thead>\n",
              "    <tr style=\"text-align: right;\">\n",
              "      <th></th>\n",
              "      <th>ingresos</th>\n",
              "      <th>ahorros</th>\n",
              "      <th>vivienda</th>\n",
              "      <th>estado_civil</th>\n",
              "      <th>hijos</th>\n",
              "      <th>trabajo</th>\n",
              "      <th>comprar</th>\n",
              "      <th>gastos</th>\n",
              "      <th>financiar</th>\n",
              "    </tr>\n",
              "  </thead>\n",
              "  <tbody>\n",
              "    <tr>\n",
              "      <th>0</th>\n",
              "      <td>6000</td>\n",
              "      <td>50000</td>\n",
              "      <td>400000</td>\n",
              "      <td>0</td>\n",
              "      <td>2</td>\n",
              "      <td>2</td>\n",
              "      <td>1</td>\n",
              "      <td>1600</td>\n",
              "      <td>350000</td>\n",
              "    </tr>\n",
              "    <tr>\n",
              "      <th>1</th>\n",
              "      <td>6745</td>\n",
              "      <td>43240</td>\n",
              "      <td>636897</td>\n",
              "      <td>1</td>\n",
              "      <td>3</td>\n",
              "      <td>6</td>\n",
              "      <td>0</td>\n",
              "      <td>1496</td>\n",
              "      <td>593657</td>\n",
              "    </tr>\n",
              "    <tr>\n",
              "      <th>2</th>\n",
              "      <td>6455</td>\n",
              "      <td>57463</td>\n",
              "      <td>321779</td>\n",
              "      <td>2</td>\n",
              "      <td>1</td>\n",
              "      <td>8</td>\n",
              "      <td>1</td>\n",
              "      <td>1926</td>\n",
              "      <td>264316</td>\n",
              "    </tr>\n",
              "    <tr>\n",
              "      <th>3</th>\n",
              "      <td>7098</td>\n",
              "      <td>54506</td>\n",
              "      <td>660933</td>\n",
              "      <td>0</td>\n",
              "      <td>0</td>\n",
              "      <td>3</td>\n",
              "      <td>0</td>\n",
              "      <td>1547</td>\n",
              "      <td>606427</td>\n",
              "    </tr>\n",
              "    <tr>\n",
              "      <th>4</th>\n",
              "      <td>6167</td>\n",
              "      <td>41512</td>\n",
              "      <td>348932</td>\n",
              "      <td>0</td>\n",
              "      <td>0</td>\n",
              "      <td>3</td>\n",
              "      <td>1</td>\n",
              "      <td>1606</td>\n",
              "      <td>307420</td>\n",
              "    </tr>\n",
              "  </tbody>\n",
              "</table>\n",
              "</div>"
            ],
            "text/plain": [
              "   ingresos  ahorros  vivienda  ...  comprar  gastos  financiar\n",
              "0      6000    50000    400000  ...        1    1600     350000\n",
              "1      6745    43240    636897  ...        0    1496     593657\n",
              "2      6455    57463    321779  ...        1    1926     264316\n",
              "3      7098    54506    660933  ...        0    1547     606427\n",
              "4      6167    41512    348932  ...        1    1606     307420\n",
              "\n",
              "[5 rows x 9 columns]"
            ]
          },
          "metadata": {
            "tags": []
          },
          "execution_count": 5
        }
      ]
    },
    {
      "cell_type": "code",
      "metadata": {
        "id": "infULpuNoCyJ",
        "colab": {
          "base_uri": "https://localhost:8080/",
          "height": 317
        },
        "outputId": "ee9cbda1-029a-4482-f921-b38b59ba5441"
      },
      "source": [
        "reduced.describe()"
      ],
      "execution_count": null,
      "outputs": [
        {
          "output_type": "execute_result",
          "data": {
            "text/html": [
              "<div>\n",
              "<style scoped>\n",
              "    .dataframe tbody tr th:only-of-type {\n",
              "        vertical-align: middle;\n",
              "    }\n",
              "\n",
              "    .dataframe tbody tr th {\n",
              "        vertical-align: top;\n",
              "    }\n",
              "\n",
              "    .dataframe thead th {\n",
              "        text-align: right;\n",
              "    }\n",
              "</style>\n",
              "<table border=\"1\" class=\"dataframe\">\n",
              "  <thead>\n",
              "    <tr style=\"text-align: right;\">\n",
              "      <th></th>\n",
              "      <th>ingresos</th>\n",
              "      <th>ahorros</th>\n",
              "      <th>vivienda</th>\n",
              "      <th>estado_civil</th>\n",
              "      <th>hijos</th>\n",
              "      <th>trabajo</th>\n",
              "      <th>comprar</th>\n",
              "      <th>gastos</th>\n",
              "      <th>financiar</th>\n",
              "    </tr>\n",
              "  </thead>\n",
              "  <tbody>\n",
              "    <tr>\n",
              "      <th>count</th>\n",
              "      <td>202.000000</td>\n",
              "      <td>202.000000</td>\n",
              "      <td>202.000000</td>\n",
              "      <td>202.000000</td>\n",
              "      <td>202.000000</td>\n",
              "      <td>202.000000</td>\n",
              "      <td>202.000000</td>\n",
              "      <td>202.000000</td>\n",
              "      <td>202.000000</td>\n",
              "    </tr>\n",
              "    <tr>\n",
              "      <th>mean</th>\n",
              "      <td>4958.995050</td>\n",
              "      <td>38749.668317</td>\n",
              "      <td>373349.638614</td>\n",
              "      <td>1.024752</td>\n",
              "      <td>1.232673</td>\n",
              "      <td>4.490099</td>\n",
              "      <td>0.331683</td>\n",
              "      <td>1698.752475</td>\n",
              "      <td>334599.970297</td>\n",
              "    </tr>\n",
              "    <tr>\n",
              "      <th>std</th>\n",
              "      <td>1682.862556</td>\n",
              "      <td>17365.231870</td>\n",
              "      <td>136371.525622</td>\n",
              "      <td>0.837184</td>\n",
              "      <td>1.367833</td>\n",
              "      <td>2.535794</td>\n",
              "      <td>0.471988</td>\n",
              "      <td>324.838005</td>\n",
              "      <td>126607.099497</td>\n",
              "    </tr>\n",
              "    <tr>\n",
              "      <th>min</th>\n",
              "      <td>2008.000000</td>\n",
              "      <td>10319.000000</td>\n",
              "      <td>176553.000000</td>\n",
              "      <td>0.000000</td>\n",
              "      <td>0.000000</td>\n",
              "      <td>0.000000</td>\n",
              "      <td>0.000000</td>\n",
              "      <td>1007.000000</td>\n",
              "      <td>154716.000000</td>\n",
              "    </tr>\n",
              "    <tr>\n",
              "      <th>25%</th>\n",
              "      <td>3513.750000</td>\n",
              "      <td>24964.250000</td>\n",
              "      <td>274810.000000</td>\n",
              "      <td>0.000000</td>\n",
              "      <td>0.000000</td>\n",
              "      <td>2.000000</td>\n",
              "      <td>0.000000</td>\n",
              "      <td>1430.500000</td>\n",
              "      <td>240410.250000</td>\n",
              "    </tr>\n",
              "    <tr>\n",
              "      <th>50%</th>\n",
              "      <td>4947.500000</td>\n",
              "      <td>38523.000000</td>\n",
              "      <td>340783.500000</td>\n",
              "      <td>1.000000</td>\n",
              "      <td>1.000000</td>\n",
              "      <td>5.000000</td>\n",
              "      <td>0.000000</td>\n",
              "      <td>1669.500000</td>\n",
              "      <td>301177.000000</td>\n",
              "    </tr>\n",
              "    <tr>\n",
              "      <th>75%</th>\n",
              "      <td>6374.500000</td>\n",
              "      <td>52150.750000</td>\n",
              "      <td>444482.000000</td>\n",
              "      <td>2.000000</td>\n",
              "      <td>2.000000</td>\n",
              "      <td>7.000000</td>\n",
              "      <td>1.000000</td>\n",
              "      <td>1928.000000</td>\n",
              "      <td>393413.000000</td>\n",
              "    </tr>\n",
              "    <tr>\n",
              "      <th>max</th>\n",
              "      <td>7984.000000</td>\n",
              "      <td>69934.000000</td>\n",
              "      <td>669540.000000</td>\n",
              "      <td>2.000000</td>\n",
              "      <td>4.000000</td>\n",
              "      <td>8.000000</td>\n",
              "      <td>1.000000</td>\n",
              "      <td>2543.000000</td>\n",
              "      <td>618621.000000</td>\n",
              "    </tr>\n",
              "  </tbody>\n",
              "</table>\n",
              "</div>"
            ],
            "text/plain": [
              "          ingresos       ahorros  ...       gastos      financiar\n",
              "count   202.000000    202.000000  ...   202.000000     202.000000\n",
              "mean   4958.995050  38749.668317  ...  1698.752475  334599.970297\n",
              "std    1682.862556  17365.231870  ...   324.838005  126607.099497\n",
              "min    2008.000000  10319.000000  ...  1007.000000  154716.000000\n",
              "25%    3513.750000  24964.250000  ...  1430.500000  240410.250000\n",
              "50%    4947.500000  38523.000000  ...  1669.500000  301177.000000\n",
              "75%    6374.500000  52150.750000  ...  1928.000000  393413.000000\n",
              "max    7984.000000  69934.000000  ...  2543.000000  618621.000000\n",
              "\n",
              "[8 rows x 9 columns]"
            ]
          },
          "metadata": {
            "tags": []
          },
          "execution_count": 6
        }
      ]
    },
    {
      "cell_type": "markdown",
      "metadata": {
        "id": "ORxldDKVoLEk"
      },
      "source": [
        "## Selección de características\n",
        "\n",
        "Se desea seleccionar las 5 mejores características utilizando SelectKBest"
      ]
    },
    {
      "cell_type": "code",
      "metadata": {
        "id": "bd-G5vfyoWFa",
        "colab": {
          "base_uri": "https://localhost:8080/",
          "height": 51
        },
        "outputId": "470675b5-3f6a-4649-faac-1bb6956d44db"
      },
      "source": [
        "X = dataframe.drop(['comprar'], axis=1)\n",
        "y = dataframe['comprar']\n",
        "\n",
        "best = SelectKBest(k=5)\n",
        "X_new = best.fit_transform(X, y)\n",
        "print(X_new.shape)\n",
        "\n",
        "selected = best.get_support(indices=True)\n",
        "print(X.columns[selected])"
      ],
      "execution_count": null,
      "outputs": [
        {
          "output_type": "stream",
          "text": [
            "(202, 5)\n",
            "Index(['ingresos', 'ahorros', 'hijos', 'trabajo', 'financiar'], dtype='object')\n"
          ],
          "name": "stdout"
        }
      ]
    },
    {
      "cell_type": "code",
      "metadata": {
        "id": "esy86k2oyYKV",
        "colab": {
          "base_uri": "https://localhost:8080/",
          "height": 669
        },
        "outputId": "51e3eab0-9999-4118-d45a-29be40995968"
      },
      "source": [
        "#Correlación entre las características\n",
        "\n",
        "used_features = X.columns[selected]\n",
        "\n",
        "colormap = plt.cm.viridis\n",
        "plt.figure(figsize=(12,12))\n",
        "plt.title('Pearson Correlation of Features', y=1.05, size=15)\n",
        "sb.heatmap(dataframe[used_features].astype(float).corr(),\n",
        "           linewidths=0.1, vmax=1.0,\n",
        "           square=True, cmap=colormap, linecolor='white', annot=True)\n"
      ],
      "execution_count": null,
      "outputs": [
        {
          "output_type": "execute_result",
          "data": {
            "text/plain": [
              "<matplotlib.axes._subplots.AxesSubplot at 0x7fb52f0ce0b8>"
            ]
          },
          "metadata": {
            "tags": []
          },
          "execution_count": 8
        },
        {
          "output_type": "display_data",
          "data": {
            "image/png": "[encoded data removed]",
            "text/plain": [
              "<Figure size 864x864 with 2 Axes>"
            ]
          },
          "metadata": {
            "tags": [],
            "needs_background": "light"
          }
        }
      ]
    },
    {
      "cell_type": "code",
      "metadata": {
        "id": "ML1y5y4Y6p9R",
        "colab": {
          "base_uri": "https://localhost:8080/",
          "height": 51
        },
        "outputId": "edcbb6d0-88de-4d63-8736-910def906454"
      },
      "source": [
        "#Generando el modelo\n",
        "\n",
        "X_train, X_test = train_test_split(dataframe, test_size=0.2, random_state=6)\n",
        "y_train = X_train['comprar']\n",
        "y_test = X_test['comprar']\n",
        "\n",
        "gnb = GaussianNB()\n",
        "gnb.fit(X_train[used_features].values, y_train)\n",
        "\n",
        "y_pred = gnb.predict(X_test[used_features])\n",
        "\n",
        "print('Precisión en el set de entrenamiento: {:.2f}'.format(gnb.score(X_train[used_features], y_train)))\n",
        "print('Precisión en el set de test: {:.2f}'.format(gnb.score(X_test[used_features], y_test)))"
      ],
      "execution_count": null,
      "outputs": [
        {
          "output_type": "stream",
          "text": [
            "Precisión en el set de entrenamiento: 0.87\n",
            "Precisión en el set de test: 0.90\n"
          ],
          "name": "stdout"
        }
      ]
    },
    {
      "cell_type": "markdown",
      "metadata": {
        "id": "ZA1ucZlqKjDu"
      },
      "source": [
        "### Probando el modelo\n",
        "\n",
        "* Familia sin hijos con 2000 euros de ingresos que quiere comprar una casa de 200000 euros y tiene 5000 euros ahorrados\n",
        "\n",
        "* Familia con 2 hijos con ingresos por 6000 euros al mes, 34000 en ahorros y consultan si compra una casa de 320000"
      ]
    },
    {
      "cell_type": "code",
      "metadata": {
        "id": "0L3314j8KgB3",
        "colab": {
          "base_uri": "https://localhost:8080/",
          "height": 34
        },
        "outputId": "a0a00ab6-4939-49f7-9fe5-60dad3edf641"
      },
      "source": [
        "print(gnb.predict([[2000, 5000, 0, 5, 200000],\n",
        "                   [6000, 34000, 2, 5, 320000]]))"
      ],
      "execution_count": null,
      "outputs": [
        {
          "output_type": "stream",
          "text": [
            "[0 1]\n"
          ],
          "name": "stdout"
        }
      ]
    }
  ]
}