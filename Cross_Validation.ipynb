{
  "nbformat": 4,
  "nbformat_minor": 0,
  "metadata": {
    "colab": {
      "name": "Cross-Validation.ipynb",
      "provenance": [],
      "authorship_tag": "ABX9TyNyNZyHcSj/wpF3IOFg0CzG",
      "include_colab_link": true
    },
    "kernelspec": {
      "name": "python3",
      "display_name": "Python 3"
    }
  },
  "cells": [
    {
      "cell_type": "markdown",
      "metadata": {
        "id": "view-in-github",
        "colab_type": "text"
      },
      "source": [
        "<a href=\"https://colab.research.google.com/github/Tavo826/Aprende-ML-Book-/blob/main/Cross_Validation.ipynb\" target=\"_parent\"><img src=\"https://colab.research.google.com/assets/colab-badge.svg\" alt=\"Open In Colab\"/></a>"
      ]
    },
    {
      "cell_type": "markdown",
      "metadata": {
        "id": "4dZMmirCOKmZ"
      },
      "source": [
        "# K_fold - 5 splits"
      ]
    },
    {
      "cell_type": "code",
      "metadata": {
        "id": "vc5kOnFmOGzX"
      },
      "source": [
        "from sklearn import datasets, metrics\n",
        "from sklearn.model_selection import train_test_split, cross_val_score, KFold\n",
        "from sklearn.linear_model import LogisticRegression\n",
        "\n",
        "import warnings\n",
        "warnings.filterwarnings('ignore')"
      ],
      "execution_count": null,
      "outputs": []
    },
    {
      "cell_type": "code",
      "metadata": {
        "id": "12XFcPTCOjpp",
        "colab": {
          "base_uri": "https://localhost:8080/",
          "height": 105
        },
        "outputId": "e960dfbd-8868-4048-8c11-3bc173f6d6f2"
      },
      "source": [
        "iris = datasets.load_iris()\n",
        "\n",
        "X_train, X_test, y_train, y_test = train_test_split(iris.data,\n",
        "                                                    iris.target, \n",
        "                                                    test_size=0.2,\n",
        "                                                    random_state=0)\n",
        "\n",
        "kf = KFold(n_splits=5)\n",
        "clf = LogisticRegression()\n",
        "clf.fit(X_train, y_train)\n",
        "\n",
        "score = clf.score(X_train, y_train)\n",
        "print('Métrica del modelo', score)\n",
        "\n",
        "scores = cross_val_score(clf,\n",
        "                         X_train,\n",
        "                         y_train, cv=kf,\n",
        "                         scoring='accuracy')\n",
        "print('Métricas cross_validation', scores)\n",
        "print('Media de cross_validation', scores.mean())\n",
        "\n",
        "preds = clf.predict(X_test)\n",
        "score_pred = metrics.accuracy_score(y_test, preds)\n",
        "print('Métrica en Test', score_pred)"
      ],
      "execution_count": null,
      "outputs": [
        {
          "output_type": "stream",
          "text": [
            "Métrica del modelo 0.9666666666666667\n",
            "Métricas cross_validation [0.95833333 0.95833333 1.         1.         0.875     ]\n",
            "Media de cross_validation 0.9583333333333334\n",
            "Métrica en Test 1.0\n"
          ],
          "name": "stdout"
        }
      ]
    }
  ]
}