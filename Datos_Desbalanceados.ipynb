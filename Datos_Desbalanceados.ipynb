{
  "nbformat": 4,
  "nbformat_minor": 0,
  "metadata": {
    "colab": {
      "name": "Datos Desbalanceados.ipynb",
      "provenance": [],
      "collapsed_sections": [],
      "mount_file_id": "1PikkeLDwiDIll0CQg2DscG3AgyHM9XK-",
      "authorship_tag": "ABX9TyOJS3Yqw6qNFnsnBv1DcI6k",
      "include_colab_link": true
    },
    "kernelspec": {
      "name": "python3",
      "display_name": "Python 3"
    }
  },
  "cells": [
    {
      "cell_type": "markdown",
      "metadata": {
        "id": "view-in-github",
        "colab_type": "text"
      },
      "source": [
        "<a href=\"https://colab.research.google.com/github/Tavo826/Aprende-ML-Book-/blob/main/Datos_Desbalanceados.ipynb\" target=\"_parent\"><img src=\"https://colab.research.google.com/assets/colab-badge.svg\" alt=\"Open In Colab\"/></a>"
      ]
    },
    {
      "cell_type": "markdown",
      "metadata": {
        "id": "lbvSShbN8Io_"
      },
      "source": [
        "Se utiliza una base de datos de fraude de tarjeta de crédito\n",
        "\n",
        "Consta de 285.000 filas con 31 características"
      ]
    },
    {
      "cell_type": "code",
      "metadata": {
        "id": "-2RvNoDaB-KS",
        "colab": {
          "base_uri": "https://localhost:8080/",
          "height": 275
        },
        "outputId": "afae8f32-2f2a-46c5-d3f7-79201190dca4"
      },
      "source": [
        "import pandas as pd\n",
        "import numpy as np\n",
        "import matplotlib.pyplot as plt\n",
        "import seaborn as sns\n",
        "\n",
        "from sklearn.metrics import confusion_matrix, classification_report\n",
        "from sklearn.model_selection import train_test_split\n",
        "from sklearn.linear_model import LogisticRegression\n",
        "from sklearn.decomposition import PCA\n",
        "from sklearn.tree import DecisionTreeClassifier\n",
        "\n",
        "from pylab import rcParams\n",
        "\n",
        "from imblearn.under_sampling import NearMiss\n",
        "from imblearn.over_sampling import RandomOverSampler\n",
        "from imblearn.combine import SMOTETomek\n",
        "from imblearn.ensemble import BalancedBaggingClassifier\n",
        "\n",
        "from collections import Counter\n",
        "\n",
        "import warnings\n",
        "warnings.filterwarnings(\"ignore\")\n",
        "\n",
        "rcParams['figure.figsize'] = 14, 8.7\n",
        "LABELS = [\"Normal\",\"Fraud\"]"
      ],
      "execution_count": null,
      "outputs": [
        {
          "output_type": "stream",
          "text": [
            "/usr/local/lib/python3.6/dist-packages/statsmodels/tools/_testing.py:19: FutureWarning: pandas.util.testing is deprecated. Use the functions in the public API at pandas.testing instead.\n",
            "  import pandas.util.testing as tm\n",
            "/usr/local/lib/python3.6/dist-packages/sklearn/externals/six.py:31: FutureWarning: The module is deprecated in version 0.21 and will be removed in version 0.23 since we've dropped support for Python 2.7. Please rely on the official version of six (https://pypi.org/project/six/).\n",
            "  \"(https://pypi.org/project/six/).\", FutureWarning)\n",
            "/usr/local/lib/python3.6/dist-packages/sklearn/utils/deprecation.py:144: FutureWarning: The sklearn.neighbors.base module is  deprecated in version 0.22 and will be removed in version 0.24. The corresponding classes / functions should instead be imported from sklearn.neighbors. Anything that cannot be imported from sklearn.neighbors is now part of the private API.\n",
            "  warnings.warn(message, FutureWarning)\n",
            "/usr/local/lib/python3.6/dist-packages/sklearn/utils/deprecation.py:144: FutureWarning: The sklearn.ensemble.bagging module is  deprecated in version 0.22 and will be removed in version 0.24. The corresponding classes / functions should instead be imported from sklearn.ensemble. Anything that cannot be imported from sklearn.ensemble is now part of the private API.\n",
            "  warnings.warn(message, FutureWarning)\n",
            "/usr/local/lib/python3.6/dist-packages/sklearn/utils/deprecation.py:144: FutureWarning: The sklearn.ensemble.base module is  deprecated in version 0.22 and will be removed in version 0.24. The corresponding classes / functions should instead be imported from sklearn.ensemble. Anything that cannot be imported from sklearn.ensemble is now part of the private API.\n",
            "  warnings.warn(message, FutureWarning)\n",
            "/usr/local/lib/python3.6/dist-packages/sklearn/utils/deprecation.py:144: FutureWarning: The sklearn.ensemble.forest module is  deprecated in version 0.22 and will be removed in version 0.24. The corresponding classes / functions should instead be imported from sklearn.ensemble. Anything that cannot be imported from sklearn.ensemble is now part of the private API.\n",
            "  warnings.warn(message, FutureWarning)\n",
            "/usr/local/lib/python3.6/dist-packages/sklearn/externals/joblib/__init__.py:15: FutureWarning: sklearn.externals.joblib is deprecated in 0.21 and will be removed in 0.23. Please import this functionality directly from joblib, which can be installed with: pip install joblib. If this warning is raised when loading pickled models, you may need to re-serialize those models with scikit-learn 0.21+.\n",
            "  warnings.warn(msg, category=FutureWarning)\n"
          ],
          "name": "stderr"
        }
      ]
    },
    {
      "cell_type": "code",
      "metadata": {
        "id": "1LI_EVjcH-Kp",
        "colab": {
          "base_uri": "https://localhost:8080/",
          "height": 224
        },
        "outputId": "2ff986ac-6eaa-41c0-fd83-6c1ee47dddb7"
      },
      "source": [
        "df = pd.read_csv('/content/drive/My Drive/Colab Notebooks/Libro_AprendeML/creditcard.csv')\n",
        "df.head()"
      ],
      "execution_count": null,
      "outputs": [
        {
          "output_type": "execute_result",
          "data": {
            "text/html": [
              "<div>\n",
              "<style scoped>\n",
              "    .dataframe tbody tr th:only-of-type {\n",
              "        vertical-align: middle;\n",
              "    }\n",
              "\n",
              "    .dataframe tbody tr th {\n",
              "        vertical-align: top;\n",
              "    }\n",
              "\n",
              "    .dataframe thead th {\n",
              "        text-align: right;\n",
              "    }\n",
              "</style>\n",
              "<table border=\"1\" class=\"dataframe\">\n",
              "  <thead>\n",
              "    <tr style=\"text-align: right;\">\n",
              "      <th></th>\n",
              "      <th>Time</th>\n",
              "      <th>V1</th>\n",
              "      <th>V2</th>\n",
              "      <th>V3</th>\n",
              "      <th>V4</th>\n",
              "      <th>V5</th>\n",
              "      <th>V6</th>\n",
              "      <th>V7</th>\n",
              "      <th>V8</th>\n",
              "      <th>V9</th>\n",
              "      <th>V10</th>\n",
              "      <th>V11</th>\n",
              "      <th>V12</th>\n",
              "      <th>V13</th>\n",
              "      <th>V14</th>\n",
              "      <th>V15</th>\n",
              "      <th>V16</th>\n",
              "      <th>V17</th>\n",
              "      <th>V18</th>\n",
              "      <th>V19</th>\n",
              "      <th>V20</th>\n",
              "      <th>V21</th>\n",
              "      <th>V22</th>\n",
              "      <th>V23</th>\n",
              "      <th>V24</th>\n",
              "      <th>V25</th>\n",
              "      <th>V26</th>\n",
              "      <th>V27</th>\n",
              "      <th>V28</th>\n",
              "      <th>Amount</th>\n",
              "      <th>Class</th>\n",
              "    </tr>\n",
              "  </thead>\n",
              "  <tbody>\n",
              "    <tr>\n",
              "      <th>0</th>\n",
              "      <td>0.0</td>\n",
              "      <td>-1.359807</td>\n",
              "      <td>-0.072781</td>\n",
              "      <td>2.536347</td>\n",
              "      <td>1.378155</td>\n",
              "      <td>-0.338321</td>\n",
              "      <td>0.462388</td>\n",
              "      <td>0.239599</td>\n",
              "      <td>0.098698</td>\n",
              "      <td>0.363787</td>\n",
              "      <td>0.090794</td>\n",
              "      <td>-0.551600</td>\n",
              "      <td>-0.617801</td>\n",
              "      <td>-0.991390</td>\n",
              "      <td>-0.311169</td>\n",
              "      <td>1.468177</td>\n",
              "      <td>-0.470401</td>\n",
              "      <td>0.207971</td>\n",
              "      <td>0.025791</td>\n",
              "      <td>0.403993</td>\n",
              "      <td>0.251412</td>\n",
              "      <td>-0.018307</td>\n",
              "      <td>0.277838</td>\n",
              "      <td>-0.110474</td>\n",
              "      <td>0.066928</td>\n",
              "      <td>0.128539</td>\n",
              "      <td>-0.189115</td>\n",
              "      <td>0.133558</td>\n",
              "      <td>-0.021053</td>\n",
              "      <td>149.62</td>\n",
              "      <td>0</td>\n",
              "    </tr>\n",
              "    <tr>\n",
              "      <th>1</th>\n",
              "      <td>0.0</td>\n",
              "      <td>1.191857</td>\n",
              "      <td>0.266151</td>\n",
              "      <td>0.166480</td>\n",
              "      <td>0.448154</td>\n",
              "      <td>0.060018</td>\n",
              "      <td>-0.082361</td>\n",
              "      <td>-0.078803</td>\n",
              "      <td>0.085102</td>\n",
              "      <td>-0.255425</td>\n",
              "      <td>-0.166974</td>\n",
              "      <td>1.612727</td>\n",
              "      <td>1.065235</td>\n",
              "      <td>0.489095</td>\n",
              "      <td>-0.143772</td>\n",
              "      <td>0.635558</td>\n",
              "      <td>0.463917</td>\n",
              "      <td>-0.114805</td>\n",
              "      <td>-0.183361</td>\n",
              "      <td>-0.145783</td>\n",
              "      <td>-0.069083</td>\n",
              "      <td>-0.225775</td>\n",
              "      <td>-0.638672</td>\n",
              "      <td>0.101288</td>\n",
              "      <td>-0.339846</td>\n",
              "      <td>0.167170</td>\n",
              "      <td>0.125895</td>\n",
              "      <td>-0.008983</td>\n",
              "      <td>0.014724</td>\n",
              "      <td>2.69</td>\n",
              "      <td>0</td>\n",
              "    </tr>\n",
              "    <tr>\n",
              "      <th>2</th>\n",
              "      <td>1.0</td>\n",
              "      <td>-1.358354</td>\n",
              "      <td>-1.340163</td>\n",
              "      <td>1.773209</td>\n",
              "      <td>0.379780</td>\n",
              "      <td>-0.503198</td>\n",
              "      <td>1.800499</td>\n",
              "      <td>0.791461</td>\n",
              "      <td>0.247676</td>\n",
              "      <td>-1.514654</td>\n",
              "      <td>0.207643</td>\n",
              "      <td>0.624501</td>\n",
              "      <td>0.066084</td>\n",
              "      <td>0.717293</td>\n",
              "      <td>-0.165946</td>\n",
              "      <td>2.345865</td>\n",
              "      <td>-2.890083</td>\n",
              "      <td>1.109969</td>\n",
              "      <td>-0.121359</td>\n",
              "      <td>-2.261857</td>\n",
              "      <td>0.524980</td>\n",
              "      <td>0.247998</td>\n",
              "      <td>0.771679</td>\n",
              "      <td>0.909412</td>\n",
              "      <td>-0.689281</td>\n",
              "      <td>-0.327642</td>\n",
              "      <td>-0.139097</td>\n",
              "      <td>-0.055353</td>\n",
              "      <td>-0.059752</td>\n",
              "      <td>378.66</td>\n",
              "      <td>0</td>\n",
              "    </tr>\n",
              "    <tr>\n",
              "      <th>3</th>\n",
              "      <td>1.0</td>\n",
              "      <td>-0.966272</td>\n",
              "      <td>-0.185226</td>\n",
              "      <td>1.792993</td>\n",
              "      <td>-0.863291</td>\n",
              "      <td>-0.010309</td>\n",
              "      <td>1.247203</td>\n",
              "      <td>0.237609</td>\n",
              "      <td>0.377436</td>\n",
              "      <td>-1.387024</td>\n",
              "      <td>-0.054952</td>\n",
              "      <td>-0.226487</td>\n",
              "      <td>0.178228</td>\n",
              "      <td>0.507757</td>\n",
              "      <td>-0.287924</td>\n",
              "      <td>-0.631418</td>\n",
              "      <td>-1.059647</td>\n",
              "      <td>-0.684093</td>\n",
              "      <td>1.965775</td>\n",
              "      <td>-1.232622</td>\n",
              "      <td>-0.208038</td>\n",
              "      <td>-0.108300</td>\n",
              "      <td>0.005274</td>\n",
              "      <td>-0.190321</td>\n",
              "      <td>-1.175575</td>\n",
              "      <td>0.647376</td>\n",
              "      <td>-0.221929</td>\n",
              "      <td>0.062723</td>\n",
              "      <td>0.061458</td>\n",
              "      <td>123.50</td>\n",
              "      <td>0</td>\n",
              "    </tr>\n",
              "    <tr>\n",
              "      <th>4</th>\n",
              "      <td>2.0</td>\n",
              "      <td>-1.158233</td>\n",
              "      <td>0.877737</td>\n",
              "      <td>1.548718</td>\n",
              "      <td>0.403034</td>\n",
              "      <td>-0.407193</td>\n",
              "      <td>0.095921</td>\n",
              "      <td>0.592941</td>\n",
              "      <td>-0.270533</td>\n",
              "      <td>0.817739</td>\n",
              "      <td>0.753074</td>\n",
              "      <td>-0.822843</td>\n",
              "      <td>0.538196</td>\n",
              "      <td>1.345852</td>\n",
              "      <td>-1.119670</td>\n",
              "      <td>0.175121</td>\n",
              "      <td>-0.451449</td>\n",
              "      <td>-0.237033</td>\n",
              "      <td>-0.038195</td>\n",
              "      <td>0.803487</td>\n",
              "      <td>0.408542</td>\n",
              "      <td>-0.009431</td>\n",
              "      <td>0.798278</td>\n",
              "      <td>-0.137458</td>\n",
              "      <td>0.141267</td>\n",
              "      <td>-0.206010</td>\n",
              "      <td>0.502292</td>\n",
              "      <td>0.219422</td>\n",
              "      <td>0.215153</td>\n",
              "      <td>69.99</td>\n",
              "      <td>0</td>\n",
              "    </tr>\n",
              "  </tbody>\n",
              "</table>\n",
              "</div>"
            ],
            "text/plain": [
              "   Time        V1        V2        V3  ...       V27       V28  Amount  Class\n",
              "0   0.0 -1.359807 -0.072781  2.536347  ...  0.133558 -0.021053  149.62      0\n",
              "1   0.0  1.191857  0.266151  0.166480  ... -0.008983  0.014724    2.69      0\n",
              "2   1.0 -1.358354 -1.340163  1.773209  ... -0.055353 -0.059752  378.66      0\n",
              "3   1.0 -0.966272 -0.185226  1.792993  ...  0.062723  0.061458  123.50      0\n",
              "4   2.0 -1.158233  0.877737  1.548718  ...  0.219422  0.215153   69.99      0\n",
              "\n",
              "[5 rows x 31 columns]"
            ]
          },
          "metadata": {
            "tags": []
          },
          "execution_count": 2
        }
      ]
    },
    {
      "cell_type": "code",
      "metadata": {
        "id": "tt_0NSnVG828",
        "colab": {
          "base_uri": "https://localhost:8080/",
          "height": 136
        },
        "outputId": "f4090f8a-18c9-43cf-ae42-f508c3ab0e62"
      },
      "source": [
        "print(df.shape)\n",
        "print('Clases:')\n",
        "print(pd.value_counts(df['Class'], sort=True))\n",
        "\n",
        "print('\\nLos casos de fraude representan el 0,17% de las muestras')"
      ],
      "execution_count": null,
      "outputs": [
        {
          "output_type": "stream",
          "text": [
            "(284807, 31)\n",
            "Clases:\n",
            "0    284315\n",
            "1       492\n",
            "Name: Class, dtype: int64\n",
            "\n",
            "Los casos de fraude representan el 0,17% de las muestras\n"
          ],
          "name": "stdout"
        }
      ]
    },
    {
      "cell_type": "code",
      "metadata": {
        "id": "sFrZwcS3_rf6",
        "colab": {
          "base_uri": "https://localhost:8080/",
          "height": 312
        },
        "outputId": "07d7cd5f-ca90-45fd-ab45-9c6b2fe11c30"
      },
      "source": [
        "count_classes = pd.value_counts(df['Class'], sort=True)\n",
        "count_classes.plot(kind='bar', rot=0)\n",
        "plt.xticks(range(2), LABELS)\n",
        "plt.title('Frecuency by observation number')\n",
        "plt.xlabel('Clases')\n",
        "plt.ylabel('Number of observations')"
      ],
      "execution_count": null,
      "outputs": [
        {
          "output_type": "execute_result",
          "data": {
            "text/plain": [
              "Text(0, 0.5, 'Number of observations')"
            ]
          },
          "metadata": {
            "tags": []
          },
          "execution_count": 4
        },
        {
          "output_type": "display_data",
          "data": {
            "image/png": "[encoded data removed]",
            "text/plain": [
              "<Figure size 432x288 with 1 Axes>"
            ]
          },
          "metadata": {
            "tags": [],
            "needs_background": "light"
          }
        }
      ]
    },
    {
      "cell_type": "markdown",
      "metadata": {
        "id": "ttxvz246A0lb"
      },
      "source": [
        "### Estrategias para el manejo de datos desbalanceados:\n",
        "\n",
        "**1. Ajuste de parámetros del modelo:**\n",
        "\n",
        "Se intenta equilibrar la clase minoritaria penalizando la clase mayoritaria. \n",
        "\n",
        "Con el LogisticRegression se puede utilizar el parámetro *class_weight = balanced*.\n",
        "\n",
        "En redes neuronales se puede ajustar la métrica de Loss para que penalice a las clases mayoritarias.\n",
        "\n",
        "**2. Modificar el dataset:**\n",
        "\n",
        "Se pueden eliminar muestras de la clase mayoritaria para intentar equilibrar el dataset. Esto puede generar que se eliminen muestras con información importante, por lo tanto se debe tener algún *criterio* si se desea borrar información.\n",
        "\n",
        "Se puede agregar nuevas filas con los mismos valores de la clase minoritaria, pero el modelo podría sobreajustarse.\n",
        "\n",
        "**3. Muestras artificiales:**\n",
        "\n",
        "Se puede intentar generar muestrar sintéticas (no idénticas) utilizando diferentes algoritmos. Es peligroso porque se puede alterar la distribución de la clase y alterar la clasificación del modelo.\n",
        "\n",
        "**4. Balanced ensembled methods:**\n",
        "\n",
        "Entrena diversos modelos y entre todos se obtiene el resultado final, todo esto tomando muestras equilibradas"
      ]
    },
    {
      "cell_type": "markdown",
      "metadata": {
        "id": "3L1S3e6yCmo3"
      },
      "source": [
        "## Regressión Logística desequilibrada"
      ]
    },
    {
      "cell_type": "code",
      "metadata": {
        "id": "HY-SwZC3Clqq"
      },
      "source": [
        "y = df['Class']\n",
        "X = df.drop('Class', axis=1)\n",
        "\n",
        "X_train, X_test, y_train, y_test = train_test_split(X, y, train_size=0.7)\n",
        "\n",
        "def run_model(X_train, X_test, y_train, y_test):\n",
        "  clf_base = LogisticRegression(C=1.0, \n",
        "                                penalty='l2',\n",
        "                                random_state=1,\n",
        "                                solver='newton-cg')\n",
        "  clf_base.fit(X_train, y_train)\n",
        "  return clf_base\n",
        "\n",
        "model = run_model(X_train, X_test, y_train, y_test)"
      ],
      "execution_count": null,
      "outputs": []
    },
    {
      "cell_type": "code",
      "metadata": {
        "id": "NFU_2xdOAVPG",
        "colab": {
          "base_uri": "https://localhost:8080/",
          "height": 825
        },
        "outputId": "f81efd3a-9a91-4b12-826a-12799936cad6"
      },
      "source": [
        "def mostrar_resultados(y_test, pred_y):\n",
        "  conf_matrix = confusion_matrix(y_test, pred_y)\n",
        "  plt.figure(figsize=(12,12))\n",
        "  sns.heatmap(conf_matrix,\n",
        "              xticklabels=LABELS, \n",
        "              yticklabels=LABELS, \n",
        "              annot=True,\n",
        "              fmt='d')\n",
        "  plt.title('Confusion matrix')\n",
        "  plt.ylabel('True class')\n",
        "  plt.xlabel('Predict class')\n",
        "  plt.show()\n",
        "  print(classification_report(y_test, pred_y))\n",
        "\n",
        "pred_y = model.predict(X_test)\n",
        "mostrar_resultados(y_test, pred_y)"
      ],
      "execution_count": null,
      "outputs": [
        {
          "output_type": "display_data",
          "data": {
            "image/png": "[encoded data removed]",
            "text/plain": [
              "<Figure size 864x864 with 2 Axes>"
            ]
          },
          "metadata": {
            "tags": [],
            "needs_background": "light"
          }
        },
        {
          "output_type": "stream",
          "text": [
            "              precision    recall  f1-score   support\n",
            "\n",
            "           0       1.00      1.00      1.00     85276\n",
            "           1       0.88      0.58      0.70       167\n",
            "\n",
            "    accuracy                           1.00     85443\n",
            "   macro avg       0.94      0.79      0.85     85443\n",
            "weighted avg       1.00      1.00      1.00     85443\n",
            "\n"
          ],
          "name": "stdout"
        }
      ]
    },
    {
      "cell_type": "markdown",
      "metadata": {
        "id": "8x7Ikl85KZXA"
      },
      "source": [
        "# Estrategias"
      ]
    },
    {
      "cell_type": "markdown",
      "metadata": {
        "id": "Af1hmv57KbmD"
      },
      "source": [
        "## 1. Penalización para compensar"
      ]
    },
    {
      "cell_type": "code",
      "metadata": {
        "id": "QIJ683VLKayi",
        "colab": {
          "base_uri": "https://localhost:8080/",
          "height": 825
        },
        "outputId": "7f50470a-6740-40dd-f041-e55528b2136a"
      },
      "source": [
        "def run_model_balanced(X_train, X_test, y_train, y_test):\n",
        "  clf = LogisticRegression(C=1.0,\n",
        "                           penalty='l2',\n",
        "                           random_state=1,\n",
        "                           solver='newton-cg',\n",
        "                           class_weight='balanced')\n",
        "  clf.fit(X_train, y_train)\n",
        "  return clf\n",
        "\n",
        "model = run_model_balanced(X_train, X_test, y_train, y_test)\n",
        "pred_y = model.predict(X_test)\n",
        "mostrar_resultados(y_test, pred_y)"
      ],
      "execution_count": null,
      "outputs": [
        {
          "output_type": "display_data",
          "data": {
            "image/png": "[encoded data removed]",
            "text/plain": [
              "<Figure size 864x864 with 2 Axes>"
            ]
          },
          "metadata": {
            "tags": [],
            "needs_background": "light"
          }
        },
        {
          "output_type": "stream",
          "text": [
            "              precision    recall  f1-score   support\n",
            "\n",
            "           0       1.00      0.98      0.99     85276\n",
            "           1       0.07      0.90      0.12       167\n",
            "\n",
            "    accuracy                           0.98     85443\n",
            "   macro avg       0.53      0.94      0.56     85443\n",
            "weighted avg       1.00      0.98      0.99     85443\n",
            "\n"
          ],
          "name": "stdout"
        }
      ]
    },
    {
      "cell_type": "markdown",
      "metadata": {
        "id": "bQy2FINgNhY3"
      },
      "source": [
        "## 2. Subsampling en la clase mayoritaria"
      ]
    },
    {
      "cell_type": "code",
      "metadata": {
        "id": "owQ_ygh5o4cj",
        "colab": {
          "base_uri": "https://localhost:8080/",
          "height": 859
        },
        "outputId": "f3e06441-99f5-4098-8cdb-d1644c344910"
      },
      "source": [
        "us = NearMiss(ratio=0.5,\n",
        "              n_neighbors=3,\n",
        "              version=2,\n",
        "              random_state=1)\n",
        "\n",
        "X_train_res, y_train_res = us.fit_sample(X_train, y_train)\n",
        "\n",
        "print('Distribución antes del resampling {}'.format(Counter(y_train)))\n",
        "print('Distribución después del resampling {}'.format(Counter(y_train_res)))\n",
        "\n",
        "model = run_model(X_train_res, X_test, y_train_res, y_test)\n",
        "pred_y = model.predict(X_test)\n",
        "mostrar_resultados(y_test, pred_y)"
      ],
      "execution_count": null,
      "outputs": [
        {
          "output_type": "stream",
          "text": [
            "Distribución antes del resampling Counter({0: 199039, 1: 325})\n",
            "Distribución después del resampling Counter({0: 650, 1: 325})\n"
          ],
          "name": "stdout"
        },
        {
          "output_type": "display_data",
          "data": {
            "image/png": "[encoded data removed]",
            "text/plain": [
              "<Figure size 864x864 with 2 Axes>"
            ]
          },
          "metadata": {
            "tags": [],
            "needs_background": "light"
          }
        },
        {
          "output_type": "stream",
          "text": [
            "              precision    recall  f1-score   support\n",
            "\n",
            "           0       1.00      0.88      0.94     85276\n",
            "           1       0.01      0.91      0.03       167\n",
            "\n",
            "    accuracy                           0.88     85443\n",
            "   macro avg       0.51      0.89      0.48     85443\n",
            "weighted avg       1.00      0.88      0.93     85443\n",
            "\n"
          ],
          "name": "stdout"
        }
      ]
    },
    {
      "cell_type": "markdown",
      "metadata": {
        "id": "fZum1rbNqrPl"
      },
      "source": [
        "## 3. Oversampling de la clase minoritaria"
      ]
    },
    {
      "cell_type": "code",
      "metadata": {
        "id": "F8AuJ-dPqu3C",
        "colab": {
          "base_uri": "https://localhost:8080/",
          "height": 879
        },
        "outputId": "1a0a3e01-c3aa-44ae-f18c-00a614477356"
      },
      "source": [
        "os = RandomOverSampler(ratio=0.5)\n",
        "X_train_res, y_train_res = os.fit_sample(X_train, y_train)\n",
        "\n",
        "print('Dist_test, y_train_res, y_ribución antes del resampling {}'.format(Counter(y_train)))\n",
        "print('Distribución después del resampling {}'.format(Counter(y_train_res)))\n",
        "\n",
        "model =run_model(X_train_res, X_test, y_train_res, y_test)\n",
        "pred_y = model.predict(X_test)\n",
        "mostrar_resultados(y_test, pred_y)"
      ],
      "execution_count": null,
      "outputs": [
        {
          "output_type": "stream",
          "text": [
            "Dist_test, y_train_res, y_ribución antes del resampling Counter({0: 199039, 1: 325})\n",
            "Distribución después del resampling Counter({0: 199039, 1: 99519})\n"
          ],
          "name": "stdout"
        },
        {
          "output_type": "display_data",
          "data": {
            "image/png": "[encoded data removed]",
            "text/plain": [
              "<Figure size 864x864 with 2 Axes>"
            ]
          },
          "metadata": {
            "tags": [],
            "needs_background": "light"
          }
        },
        {
          "output_type": "stream",
          "text": [
            "              precision    recall  f1-score   support\n",
            "\n",
            "           0       1.00      0.99      0.99     85276\n",
            "           1       0.12      0.89      0.21       167\n",
            "\n",
            "    accuracy                           0.99     85443\n",
            "   macro avg       0.56      0.94      0.60     85443\n",
            "weighted avg       1.00      0.99      0.99     85443\n",
            "\n"
          ],
          "name": "stdout"
        }
      ]
    },
    {
      "cell_type": "markdown",
      "metadata": {
        "id": "1adhKe2QvAmL"
      },
      "source": [
        "## Plus. Combinando resampling con Smote-Tomek\n",
        "\n",
        "Aplica en simultpaneo un algoritmo de subsampling y otro de oversampling a la vez"
      ]
    },
    {
      "cell_type": "code",
      "metadata": {
        "id": "6k6l3hkMvoKv",
        "colab": {
          "base_uri": "https://localhost:8080/",
          "height": 879
        },
        "outputId": "95de895f-3cdc-4d65-f9ff-dc94b421406d"
      },
      "source": [
        "os_us = SMOTETomek(ratio=0.5)\n",
        "X_train_res, y_train_res = os_us.fit_sample(X_train, y_train)\n",
        "\n",
        "print('Dist_test, y_train_res, y_ribución antes del resampling {}'.format(Counter(y_train)))\n",
        "print('Distribución después del resampling {}'.format(Counter(y_train_res)))\n",
        "\n",
        "model =run_model(X_train_res, X_test, y_train_res, y_test)\n",
        "pred_y = model.predict(X_test)\n",
        "mostrar_resultados(y_test, pred_y)"
      ],
      "execution_count": null,
      "outputs": [
        {
          "output_type": "stream",
          "text": [
            "Dist_test, y_train_res, y_ribución antes del resampling Counter({0: 199039, 1: 325})\n",
            "Distribución después del resampling Counter({0: 198212, 1: 98692})\n"
          ],
          "name": "stdout"
        },
        {
          "output_type": "display_data",
          "data": {
            "image/png": "[encoded data removed]",
            "text/plain": [
              "<Figure size 864x864 with 2 Axes>"
            ]
          },
          "metadata": {
            "tags": [],
            "needs_background": "light"
          }
        },
        {
          "output_type": "stream",
          "text": [
            "              precision    recall  f1-score   support\n",
            "\n",
            "           0       1.00      0.99      1.00     85276\n",
            "           1       0.22      0.86      0.35       167\n",
            "\n",
            "    accuracy                           0.99     85443\n",
            "   macro avg       0.61      0.93      0.68     85443\n",
            "weighted avg       1.00      0.99      1.00     85443\n",
            "\n"
          ],
          "name": "stdout"
        }
      ]
    },
    {
      "cell_type": "markdown",
      "metadata": {
        "id": "XeKiicDVwEEd"
      },
      "source": [
        "## 4. Ensamble de modelos con balanceo"
      ]
    },
    {
      "cell_type": "code",
      "metadata": {
        "id": "vBzx00mUwDsA",
        "colab": {
          "base_uri": "https://localhost:8080/",
          "height": 825
        },
        "outputId": "469bc655-1cc6-40b6-bf54-3dd02917e2fd"
      },
      "source": [
        "bbc = BalancedBaggingClassifier(base_estimator=DecisionTreeClassifier(),\n",
        "                                sampling_strategy='auto',\n",
        "                                replacement=False,\n",
        "                                random_state=0)\n",
        "\n",
        "bbc.fit(X_train, y_train)\n",
        "pred_y = bbc.predict(X_test)\n",
        "mostrar_resultados(y_test, pred_y)"
      ],
      "execution_count": null,
      "outputs": [
        {
          "output_type": "display_data",
          "data": {
            "image/png": "[encoded data removed]",
            "text/plain": [
              "<Figure size 864x864 with 2 Axes>"
            ]
          },
          "metadata": {
            "tags": [],
            "needs_background": "light"
          }
        },
        {
          "output_type": "stream",
          "text": [
            "              precision    recall  f1-score   support\n",
            "\n",
            "           0       1.00      0.98      0.99     85276\n",
            "           1       0.07      0.87      0.13       167\n",
            "\n",
            "    accuracy                           0.98     85443\n",
            "   macro avg       0.53      0.92      0.56     85443\n",
            "weighted avg       1.00      0.98      0.99     85443\n",
            "\n"
          ],
          "name": "stdout"
        }
      ]
    },
    {
      "cell_type": "markdown",
      "metadata": {
        "id": "PhlxnzSSzCkv"
      },
      "source": [
        "# Resultados de las estrategias"
      ]
    },
    {
      "cell_type": "code",
      "metadata": {
        "id": "rFSVVuSpzE1J",
        "colab": {
          "base_uri": "https://localhost:8080/",
          "height": 235
        },
        "outputId": "ba01eceb-66a4-4654-e79f-a60d14179c8a"
      },
      "source": [
        "df = pd.DataFrame({'algorithm': ['Regresión Logística', \n",
        "                                 'Penalización',\n",
        "                                 'NearMiss Subsampling',\n",
        "                                 'Random Oversampling',\n",
        "                                 'Smote Tomek',\n",
        "                                 'Ensemble'],\n",
        "                   'precision': [1.0, 1.0, 1.0, 1.0, 1.0, 1.0],\n",
        "                   'recall': [0.58, 0.90, 0.91, 0.89, 0.86, 0.87]})\n",
        "\n",
        "df['overall'] = df.apply(lambda row: (row.precision + row.recall)/2, \n",
        "                         axis=1)\n",
        "\n",
        "df = df.sort_values(['overall'], ascending=False)\n",
        "df"
      ],
      "execution_count": null,
      "outputs": [
        {
          "output_type": "execute_result",
          "data": {
            "text/html": [
              "<div>\n",
              "<style scoped>\n",
              "    .dataframe tbody tr th:only-of-type {\n",
              "        vertical-align: middle;\n",
              "    }\n",
              "\n",
              "    .dataframe tbody tr th {\n",
              "        vertical-align: top;\n",
              "    }\n",
              "\n",
              "    .dataframe thead th {\n",
              "        text-align: right;\n",
              "    }\n",
              "</style>\n",
              "<table border=\"1\" class=\"dataframe\">\n",
              "  <thead>\n",
              "    <tr style=\"text-align: right;\">\n",
              "      <th></th>\n",
              "      <th>algorithm</th>\n",
              "      <th>precision</th>\n",
              "      <th>recall</th>\n",
              "      <th>overall</th>\n",
              "    </tr>\n",
              "  </thead>\n",
              "  <tbody>\n",
              "    <tr>\n",
              "      <th>2</th>\n",
              "      <td>NearMiss Subsampling</td>\n",
              "      <td>1.0</td>\n",
              "      <td>0.91</td>\n",
              "      <td>0.955</td>\n",
              "    </tr>\n",
              "    <tr>\n",
              "      <th>1</th>\n",
              "      <td>Penalización</td>\n",
              "      <td>1.0</td>\n",
              "      <td>0.90</td>\n",
              "      <td>0.950</td>\n",
              "    </tr>\n",
              "    <tr>\n",
              "      <th>3</th>\n",
              "      <td>Random Oversampling</td>\n",
              "      <td>1.0</td>\n",
              "      <td>0.89</td>\n",
              "      <td>0.945</td>\n",
              "    </tr>\n",
              "    <tr>\n",
              "      <th>5</th>\n",
              "      <td>Ensemble</td>\n",
              "      <td>1.0</td>\n",
              "      <td>0.87</td>\n",
              "      <td>0.935</td>\n",
              "    </tr>\n",
              "    <tr>\n",
              "      <th>4</th>\n",
              "      <td>Smote Tomek</td>\n",
              "      <td>1.0</td>\n",
              "      <td>0.86</td>\n",
              "      <td>0.930</td>\n",
              "    </tr>\n",
              "    <tr>\n",
              "      <th>0</th>\n",
              "      <td>Regresión Logística</td>\n",
              "      <td>1.0</td>\n",
              "      <td>0.58</td>\n",
              "      <td>0.790</td>\n",
              "    </tr>\n",
              "  </tbody>\n",
              "</table>\n",
              "</div>"
            ],
            "text/plain": [
              "              algorithm  precision  recall  overall\n",
              "2  NearMiss Subsampling        1.0    0.91    0.955\n",
              "1          Penalización        1.0    0.90    0.950\n",
              "3   Random Oversampling        1.0    0.89    0.945\n",
              "5              Ensemble        1.0    0.87    0.935\n",
              "4           Smote Tomek        1.0    0.86    0.930\n",
              "0   Regresión Logística        1.0    0.58    0.790"
            ]
          },
          "metadata": {
            "tags": []
          },
          "execution_count": 14
        }
      ]
    }
  ]
}